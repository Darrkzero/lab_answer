{
 "cells": [
  {
   "cell_type": "markdown",
   "id": "cbfa6c94",
   "metadata": {},
   "source": [
    "Exercise 1: Variable Assignment and Basic Operations\n",
    "Create variables to store the following geospatial data:\n",
    "\n",
    "The latitude and longitude of New York City: 40.7128, -74.0060.\n",
    "\n",
    "The population of New York City: 8,336,817.\n",
    "\n",
    "The area of New York City in square kilometers: 783.8.\n",
    "\n",
    "Perform the following tasks:\n",
    "\n",
    "Calculate and print the population density of New York City (population per square kilometer).\n",
    "\n",
    "Print the coordinates in the format “Latitude: [latitude], Longitude: [longitude]”."
   ]
  },
  {
   "cell_type": "code",
   "execution_count": 1,
   "id": "ddbd7dcc",
   "metadata": {},
   "outputs": [],
   "source": [
    "latitude = 44.7128\n",
    "longitude = -74.0060\n",
    "total_pol_newyork = 8336817\n",
    "area_newyork = 789.8  # in square kilometers"
   ]
  },
  {
   "cell_type": "code",
   "execution_count": 3,
   "id": "37294c43",
   "metadata": {},
   "outputs": [
    {
     "name": "stdout",
     "output_type": "stream",
     "text": [
      "Population density of New York City: 10555.60521651051 people per square kilometer\n"
     ]
    }
   ],
   "source": [
    "# Calculate population density\n",
    "population_density = total_pol_newyork / area_newyork\n",
    "print(\"Population density of New York City:\", population_density, \"people per square kilometer\")"
   ]
  },
  {
   "cell_type": "code",
   "execution_count": 4,
   "id": "f8b3363d",
   "metadata": {},
   "outputs": [
    {
     "name": "stdout",
     "output_type": "stream",
     "text": [
      "Latitude: 44.7128, Longitude: -74.006\n"
     ]
    }
   ],
   "source": [
    "print(f\"Latitude: {latitude}, Longitude: {longitude}\")"
   ]
  },
  {
   "cell_type": "markdown",
   "id": "ffd9e405",
   "metadata": {},
   "source": [
    "Exercise 2: Working with Strings\n",
    "Create a string variable to store the name of a city, such as “San Francisco”. Perform the following operations:\n",
    "\n",
    "Convert the string to lowercase and print the result.\n",
    "\n",
    "Convert the string to uppercase and print the result.\n",
    "\n",
    "Replace “San” with “Los” in the city name and print the new string."
   ]
  },
  {
   "cell_type": "code",
   "execution_count": 5,
   "id": "c6d364fc",
   "metadata": {},
   "outputs": [],
   "source": [
    "city_name = \"san francisco\""
   ]
  },
  {
   "cell_type": "code",
   "execution_count": 8,
   "id": "8bb655b3",
   "metadata": {},
   "outputs": [],
   "source": [
    "upper = city_name.upper()\n",
    "lower = city_name.lower()"
   ]
  },
  {
   "cell_type": "code",
   "execution_count": 11,
   "id": "697bf0b6",
   "metadata": {},
   "outputs": [
    {
     "name": "stdout",
     "output_type": "stream",
     "text": [
      "SAN FRANCISCO\n",
      "san francisco\n"
     ]
    }
   ],
   "source": [
    "print(upper)\n",
    "print(lower)"
   ]
  },
  {
   "cell_type": "code",
   "execution_count": 12,
   "id": "ff013285",
   "metadata": {},
   "outputs": [
    {
     "name": "stdout",
     "output_type": "stream",
     "text": [
      "los francisco\n"
     ]
    }
   ],
   "source": [
    "new_city_name = city_name.replace(\"san\", \"los\")\n",
    "print(new_city_name)"
   ]
  },
  {
   "cell_type": "markdown",
   "id": "495a7b11",
   "metadata": {},
   "source": [
    "Exercise 3: Using Lists\n",
    "Create a list of tuples, where each tuple contains the name of a city and its corresponding latitude and longitude:\n",
    "\n",
    "New York City: (40.7128, -74.0060)\n",
    "\n",
    "Los Angeles: (34.0522, -118.2437)\n",
    "\n",
    "Chicago: (41.8781, -87.6298)\n",
    "\n",
    "Perform the following tasks:\n",
    "\n",
    "Add a new city (e.g., Miami: (25.7617, -80.1918)) to the list.\n",
    "\n",
    "Print the entire list of cities.\n",
    "\n",
    "Slice the list to print only the first two cities."
   ]
  },
  {
   "cell_type": "code",
   "execution_count": 76,
   "id": "bc502387",
   "metadata": {},
   "outputs": [],
   "source": [
    "cities = [\n",
    "    (\"New York City\", 40.7128, -74.0060),\n",
    "    (\"Los Angeles\", 34.0522, -118.2437),\n",
    "    (\"Chicago\", 41.8781, -87.6298),\n",
    "    (\"Houston\", 29.7604, -95.3698),\n",
    "]"
   ]
  },
  {
   "cell_type": "code",
   "execution_count": 15,
   "id": "9ee5b732",
   "metadata": {},
   "outputs": [],
   "source": [
    "cities.append((\"miami\", 25.7617, -80.1918))"
   ]
  },
  {
   "cell_type": "code",
   "execution_count": 17,
   "id": "59158105",
   "metadata": {},
   "outputs": [
    {
     "data": {
      "text/plain": [
       "[('New York City', 40.7128, -74.006),\n",
       " ('Los Angeles', 34.0522, -118.2437),\n",
       " ('Chicago', 41.8781, -87.6298),\n",
       " ('Houston', 29.7604, -95.3698),\n",
       " ('miami', 25.7617, -80.1918)]"
      ]
     },
     "execution_count": 17,
     "metadata": {},
     "output_type": "execute_result"
    }
   ],
   "source": [
    "cities\n"
   ]
  },
  {
   "cell_type": "code",
   "execution_count": 20,
   "id": "d3190052",
   "metadata": {},
   "outputs": [
    {
     "data": {
      "text/plain": [
       "[('New York City', 40.7128, -74.006), ('Los Angeles', 34.0522, -118.2437)]"
      ]
     },
     "execution_count": 20,
     "metadata": {},
     "output_type": "execute_result"
    }
   ],
   "source": [
    "cities[:2]  # Display the first two cities"
   ]
  },
  {
   "cell_type": "markdown",
   "id": "dd5ae199",
   "metadata": {},
   "source": [
    "Exercise 4: Using Tuples\n",
    "Create a tuple to store the coordinates (latitude, longitude) of the Eiffel Tower: (48.8584, 2.2945). Perform the following tasks:\n",
    "\n",
    "Access and print the latitude and longitude values from the tuple.\n",
    "\n",
    "Try to change the latitude value to 48.8585. What happens? Explain why."
   ]
  },
  {
   "cell_type": "code",
   "execution_count": 22,
   "id": "a48213d9",
   "metadata": {},
   "outputs": [
    {
     "name": "stdout",
     "output_type": "stream",
     "text": [
      "Eiffel Tower Coordinates: Latitude 48.8584, Longitude 2.2945\n"
     ]
    }
   ],
   "source": [
    "eiffel_coordinates = (48.8584, 2.2945)  # Latitude and Longitude of the Eiffel Tower\n",
    "print(f\"Eiffel Tower Coordinates: Latitude {eiffel_coordinates[0]}, Longitude {eiffel_coordinates[1]}\")"
   ]
  },
  {
   "cell_type": "code",
   "execution_count": 24,
   "id": "5472309b",
   "metadata": {},
   "outputs": [
    {
     "ename": "TypeError",
     "evalue": "'tuple' object does not support item assignment",
     "output_type": "error",
     "traceback": [
      "\u001b[31m---------------------------------------------------------------------------\u001b[39m",
      "\u001b[31mTypeError\u001b[39m                                 Traceback (most recent call last)",
      "\u001b[36mCell\u001b[39m\u001b[36m \u001b[39m\u001b[32mIn[24]\u001b[39m\u001b[32m, line 1\u001b[39m\n\u001b[32m----> \u001b[39m\u001b[32m1\u001b[39m \u001b[43meiffel_coordinates\u001b[49m\u001b[43m[\u001b[49m\u001b[32;43m0\u001b[39;49m\u001b[43m]\u001b[49m = \u001b[32m47.8585\u001b[39m  \u001b[38;5;66;03m# Attempting to change the latitude (will raise an error)\u001b[39;00m\n",
      "\u001b[31mTypeError\u001b[39m: 'tuple' object does not support item assignment"
     ]
    }
   ],
   "source": [
    "eiffel_coordinates[0] = 47.8585  # Attempting to change the latitude (will raise an error)"
   ]
  },
  {
   "cell_type": "markdown",
   "id": "94c2be32",
   "metadata": {},
   "source": [
    "Exercise 5: Working with Sets\n",
    "Create a set of countries you have visited, such as {“USA”, “France”, “Germany”}. Perform the following tasks:\n",
    "\n",
    "Add a new country to the set.\n",
    "\n",
    "Try to add the same country again. What happens?\n",
    "\n",
    "Print the updated set."
   ]
  },
  {
   "cell_type": "code",
   "execution_count": 80,
   "id": "c316a078",
   "metadata": {},
   "outputs": [
    {
     "name": "stdout",
     "output_type": "stream",
     "text": [
      "{'Spain', 'France', 'Canada', 'Germany', 'USA'}\n"
     ]
    }
   ],
   "source": [
    "countries = {\"USA\", \"Canada\", \"France\", \"Germany\"}\n",
    "countries.add(\"Spain\")  # Adding a new country\n",
    "print(countries)"
   ]
  },
  {
   "cell_type": "code",
   "execution_count": 119,
   "id": "bcda2666",
   "metadata": {},
   "outputs": [
    {
     "ename": "TypeError",
     "evalue": "'set' object does not support item assignment",
     "output_type": "error",
     "traceback": [
      "\u001b[31m---------------------------------------------------------------------------\u001b[39m",
      "\u001b[31mTypeError\u001b[39m                                 Traceback (most recent call last)",
      "\u001b[36mCell\u001b[39m\u001b[36m \u001b[39m\u001b[32mIn[119]\u001b[39m\u001b[32m, line 1\u001b[39m\n\u001b[32m----> \u001b[39m\u001b[32m1\u001b[39m \u001b[43mcountries\u001b[49m\u001b[43m[\u001b[49m\u001b[32;43m0\u001b[39;49m\u001b[43m]\u001b[49m = \u001b[33m\"\u001b[39m\u001b[33mItaly\u001b[39m\u001b[33m\"\u001b[39m  \u001b[38;5;66;03m# Attempting to change the first country (will raise an error)\u001b[39;00m\n",
      "\u001b[31mTypeError\u001b[39m: 'set' object does not support item assignment"
     ]
    }
   ],
   "source": [
    "countries[0] = \"Italy\"  # Attempting to change the first country (will raise an error)\n"
   ]
  },
  {
   "cell_type": "code",
   "execution_count": 120,
   "id": "dc1b5bc4",
   "metadata": {},
   "outputs": [
    {
     "name": "stdout",
     "output_type": "stream",
     "text": [
      "{'Spain', 'France', 'Canada', 'Germany', 'USA'}\n"
     ]
    }
   ],
   "source": [
    "print(countries)"
   ]
  },
  {
   "cell_type": "markdown",
   "id": "b698cbd9",
   "metadata": {},
   "source": [
    "Exercise 6: Working with Dictionaries\n",
    "Create a dictionary to store information about a specific geospatial feature, such as a river:\n",
    "\n",
    "Name: “Amazon River”\n",
    "\n",
    "Length: 6400 km\n",
    "\n",
    "Countries: [“Brazil”, “Peru”, “Colombia”]\n",
    "\n",
    "Perform the following tasks:\n",
    "\n",
    "Add a new key-value pair to the dictionary to store the river’s average discharge (e.g., 209,000 m³/s).\n",
    "\n",
    "Update the length of the river to 6992 km.\n",
    "\n",
    "Print the dictionary."
   ]
  },
  {
   "cell_type": "code",
   "execution_count": 29,
   "id": "8547b564",
   "metadata": {},
   "outputs": [],
   "source": [
    "geospatial_data = {\n",
    "    \"Name\": \"Amazon Rainforest\",\n",
    "    \"Length\": 6400, # in kilometers\n",
    "    \"Countries\": [\"brazil\", \"peru\", \"colombia\", \"venezuela\"],\n",
    "}\n"
   ]
  },
  {
   "cell_type": "code",
   "execution_count": 31,
   "id": "f5a533eb",
   "metadata": {},
   "outputs": [
    {
     "data": {
      "text/plain": [
       "{'Name': 'Amazon Rainforest',\n",
       " 'Length': 6400,\n",
       " 'Countries': ['brazil', 'peru', 'colombia', 'venezuela'],\n",
       " 'rivers average': 209000}"
      ]
     },
     "execution_count": 31,
     "metadata": {},
     "output_type": "execute_result"
    }
   ],
   "source": [
    "geospatial_data.update({\"rivers average\": 209000}) \n",
    "geospatial_data"
   ]
  },
  {
   "cell_type": "code",
   "execution_count": 32,
   "id": "f1c52d35",
   "metadata": {},
   "outputs": [
    {
     "data": {
      "text/plain": [
       "{'Name': 'Amazon Rainforest',\n",
       " 'Length': 7000,\n",
       " 'Countries': ['brazil', 'peru', 'colombia', 'venezuela'],\n",
       " 'rivers average': 209000}"
      ]
     },
     "execution_count": 32,
     "metadata": {},
     "output_type": "execute_result"
    }
   ],
   "source": [
    "geospatial_data[\"Length\"] = 7000  # Updating the length of the Amazon Rainforest\n",
    "geospatial_data"
   ]
  },
  {
   "cell_type": "markdown",
   "id": "d2f400fc",
   "metadata": {},
   "source": [
    "Exercise 7: Nested Data Structures\n",
    "Create a dictionary to represent a city that contains the city’s name, population, and coordinates (latitude, longitude):\n",
    "\n",
    "Name: “Tokyo”\n",
    "\n",
    "Population: 13,515,271\n",
    "\n",
    "Coordinates: (35.6895, 139.6917)\n",
    "\n",
    "Perform the following tasks:\n",
    "\n",
    "Access and print the population of the city.\n",
    "\n",
    "Access and print the city’s latitude.\n",
    "\n",
    "Update the population to 14,000,000 and print the updated dictionary."
   ]
  },
  {
   "cell_type": "code",
   "execution_count": 33,
   "id": "c2d7a10f",
   "metadata": {},
   "outputs": [],
   "source": [
    "city = {\n",
    "    \"Name\": \"San Francisco\",\n",
    "    \"Population\": 883305,\n",
    "    \"Coordinates\":(35.6895, 139.6917),  # Latitude and Longitude\n",
    "    \n",
    "    }"
   ]
  },
  {
   "cell_type": "code",
   "execution_count": 36,
   "id": "924f3157",
   "metadata": {},
   "outputs": [
    {
     "data": {
      "text/plain": [
       "883305"
      ]
     },
     "execution_count": 36,
     "metadata": {},
     "output_type": "execute_result"
    }
   ],
   "source": [
    "city[\"Population\"]\n"
   ]
  },
  {
   "cell_type": "code",
   "execution_count": 38,
   "id": "d174a137",
   "metadata": {},
   "outputs": [
    {
     "data": {
      "text/plain": [
       "35.6895"
      ]
     },
     "execution_count": 38,
     "metadata": {},
     "output_type": "execute_result"
    }
   ],
   "source": [
    "city[\"Coordinates\"][0]  # Accessing the latitude"
   ]
  },
  {
   "cell_type": "code",
   "execution_count": 39,
   "id": "f2ef1f45",
   "metadata": {},
   "outputs": [
    {
     "name": "stdout",
     "output_type": "stream",
     "text": [
      "{'Name': 'San Francisco', 'Population': 14000000, 'Coordinates': (35.6895, 139.6917)}\n"
     ]
    }
   ],
   "source": [
    "city[\"Population\"] = 14000000  # Updating the population\n",
    "print(city)"
   ]
  },
  {
   "cell_type": "markdown",
   "id": "f863ff24",
   "metadata": {},
   "source": [
    "Exercise 8: List Operations\n",
    "Given the list of cities from Exercise 3, perform the following operations:\n",
    "\n",
    "Sort the list of cities alphabetically by name.\n",
    "\n",
    "Create a new list that contains only the city names.\n",
    "\n",
    "Remove the last city from the original list and print the updated list."
   ]
  },
  {
   "cell_type": "code",
   "execution_count": 60,
   "id": "46875be1",
   "metadata": {},
   "outputs": [],
   "source": [
    "new_city = []\n",
    "for s_city in cities:\n",
    "    new_city.append(s_city[0])  # Extracting city names"
   ]
  },
  {
   "cell_type": "code",
   "execution_count": 100,
   "id": "8420ba84",
   "metadata": {},
   "outputs": [
    {
     "name": "stdout",
     "output_type": "stream",
     "text": [
      "('Houston', 29.7604, -95.3698)\n",
      "[('New York City', 40.7128, -74.006), ('Los Angeles', 34.0522, -118.2437), ('Chicago', 41.8781, -87.6298)]\n"
     ]
    }
   ],
   "source": [
    "new_list = cities.pop(len(cities)-1)\n",
    "print(new_list)\n",
    "print(cities)"
   ]
  },
  {
   "cell_type": "markdown",
   "id": "d10fdf8d",
   "metadata": {},
   "source": [
    "Exercise 9: Dictionary Operations\n",
    "Using the dictionary from Exercise 6, perform the following tasks:\n",
    "\n",
    "Check if the key “Length” exists in the dictionary.\n",
    "\n",
    "Print all the keys in the dictionary.\n",
    "\n",
    "Print all the values in the dictionary."
   ]
  },
  {
   "cell_type": "code",
   "execution_count": 112,
   "id": "75d6e936",
   "metadata": {},
   "outputs": [
    {
     "name": "stdout",
     "output_type": "stream",
     "text": [
      "['Name', 'Length', 'Countries', 'rivers average']\n",
      "4\n",
      "['Amazon Rainforest', 7000, ['brazil', 'peru', 'colombia', 'venezuela'], 209000]\n"
     ]
    }
   ],
   "source": [
    "print(list(geospatial_data.keys()))  # Displaying the keys of the geospatial data dictionary\n",
    "print(len(geospatial_data.keys()))\n",
    "print(list(geospatial_data.values()))  # Displaying the values of the geospatial data dictionary"
   ]
  },
  {
   "cell_type": "markdown",
   "id": "0835d9e4",
   "metadata": {},
   "source": [
    "Exercise 10: Practical Application\n",
    "Imagine you have a list of tuples, each representing a location with its name, latitude, and longitude:\n",
    "\n",
    "locations = [\n",
    "    (\"Mount Everest\", 27.9881, 86.9250),\n",
    "    (\"K2\", 35.8808, 76.5155),\n",
    "    (\"Kangchenjunga\", 27.7025, 88.1475),\n",
    "]\n",
    "Perform the following tasks:\n",
    "\n",
    "Create a new list that contains only the names of the locations.\n",
    "\n",
    "Create a dictionary where the keys are location names and the values are tuples of their coordinates.\n",
    "\n",
    "Print the latitude of “K2” using the dictionary.\n",
    "\n"
   ]
  },
  {
   "cell_type": "code",
   "execution_count": 113,
   "id": "a7a12cf5",
   "metadata": {},
   "outputs": [
    {
     "name": "stdout",
     "output_type": "stream",
     "text": [
      "['Mount Everest', 'K2', 'Kangchenjunga']\n"
     ]
    }
   ],
   "source": [
    "locations = [\n",
    "    (\"Mount Everest\", 27.9881, 86.9250),\n",
    "    (\"K2\", 35.8808, 76.5155),\n",
    "    (\"Kangchenjunga\", 27.7025, 88.1475),\n",
    "]\n",
    "list_location = []\n",
    "\n",
    "for location in locations:\n",
    "    list_location.append(location[0])  # Extracting mountain names\n",
    "print(list_location)"
   ]
  },
  {
   "cell_type": "code",
   "execution_count": 115,
   "id": "983afca7",
   "metadata": {},
   "outputs": [
    {
     "name": "stdout",
     "output_type": "stream",
     "text": [
      "{'Mount Everest': (27.9881, 86.925), 'K2': (35.8808, 76.5155), 'Kangchenjunga': (27.7025, 88.1475)}\n"
     ]
    }
   ],
   "source": [
    "dic_locations = {}\n",
    "\n",
    "for location in locations:\n",
    "    dic_locations.update({location[0]: (location[1], location[2])})  # Storing mountain names with their coordinates\n",
    "print(dic_locations)"
   ]
  },
  {
   "cell_type": "code",
   "execution_count": 117,
   "id": "811918e4",
   "metadata": {},
   "outputs": [
    {
     "data": {
      "text/plain": [
       "35.8808"
      ]
     },
     "execution_count": 117,
     "metadata": {},
     "output_type": "execute_result"
    }
   ],
   "source": [
    "dic_locations[\"K2\"][0]  # Accessing the latitude of K2"
   ]
  }
 ],
 "metadata": {
  "kernelspec": {
   "display_name": "Python 3",
   "language": "python",
   "name": "python3"
  },
  "language_info": {
   "codemirror_mode": {
    "name": "ipython",
    "version": 3
   },
   "file_extension": ".py",
   "mimetype": "text/x-python",
   "name": "python",
   "nbconvert_exporter": "python",
   "pygments_lexer": "ipython3",
   "version": "3.13.5"
  }
 },
 "nbformat": 4,
 "nbformat_minor": 5
}
