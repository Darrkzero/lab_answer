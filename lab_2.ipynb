{
 "cells": [
  {
   "cell_type": "markdown",
   "id": "a5902509",
   "metadata": {},
   "source": [
    "Exercise 1: Manipulating Geographic Location Strings\n",
    "Create a string that represents the name of a geographic feature (e.g., \"Amazon River\").\n",
    "\n",
    "Convert the string to lowercase and then to uppercase.\n",
    "\n",
    "Concatenate the string with the name of the country (e.g., \"Brazil\") to create a full location name.\n",
    "\n",
    "Repeat the string three times, separating each repetition with a dash (-)."
   ]
  },
  {
   "cell_type": "code",
   "execution_count": 2,
   "id": "a4a6980e",
   "metadata": {},
   "outputs": [
    {
     "name": "stdout",
     "output_type": "stream",
     "text": [
      "amazon rainforest\n",
      "AMAZON RAINFOREST\n"
     ]
    }
   ],
   "source": [
    "geographical_feature = \"Amazon Rainforest\"\n",
    "print(geographical_feature.lower())\n",
    "print(geographical_feature.upper())"
   ]
  },
  {
   "cell_type": "code",
   "execution_count": 6,
   "id": "ba661a9d",
   "metadata": {},
   "outputs": [
    {
     "name": "stdout",
     "output_type": "stream",
     "text": [
      "Amazon Rainforest Brazil\n"
     ]
    }
   ],
   "source": [
    "full_location = geographical_feature + \" \" + \"Brazil\"\n",
    "print(full_location)"
   ]
  },
  {
   "cell_type": "code",
   "execution_count": 12,
   "id": "b76419ce",
   "metadata": {},
   "outputs": [
    {
     "name": "stdout",
     "output_type": "stream",
     "text": [
      "Amazon Rainforest - Amazon Rainforest - Amazon Rainforest - \n"
     ]
    }
   ],
   "source": [
    "update_geographical_feature = geographical_feature + \" \" + \"-\" + \" \"\n",
    "print(update_geographical_feature * 3)"
   ]
  },
  {
   "cell_type": "markdown",
   "id": "5f3ecbc3",
   "metadata": {},
   "source": [
    "Exercise 2: Extracting and Formatting Coordinates\n",
    "Given a string with the format \"latitude, longitude\" (e.g., \"40.7128N, 74.0060W\"), extract the numeric values of latitude and longitude.\n",
    "\n",
    "Convert these values to floats and remove the directional indicators (N, S, E, W).\n",
    "\n",
    "Format the coordinates into a POINT WKT string (e.g., \"POINT(-74.0060 40.7128)\")."
   ]
  },
  {
   "cell_type": "code",
   "execution_count": 25,
   "id": "8e161928",
   "metadata": {},
   "outputs": [
    {
     "name": "stdout",
     "output_type": "stream",
     "text": [
      "40.7128\n",
      "74.006\n",
      "POINT (40.7128, 74.006)\n"
     ]
    }
   ],
   "source": [
    "cordinate_string = \"40.7128N, 74.0060W\"\n",
    "lat, lon = cordinate_string.split(\", \") # Split the string into latitude and longitude\n",
    "float_lat = float(lat[:len(lat)-1]) #convert to float and remove 'N'\n",
    "float_lon = float(lon[:len(lon)-1]) #convert to float and remove 'W'\n",
    "print(float_lat)\n",
    "print(float_lon)\n",
    "print(f\"POINT ({float_lat}, {float_lon})\")"
   ]
  },
  {
   "cell_type": "markdown",
   "id": "31bf4337",
   "metadata": {},
   "source": [
    "Exercise 3: Building Dynamic SQL Queries\n",
    "Given a table name and a condition, dynamically build an SQL query string.\n",
    "\n",
    "Example: If table_name = \"cities\" and condition = \"population > 1000000\", the query should be \"SELECT * FROM cities WHERE population > 1000000;\".\n",
    "\n",
    "Add additional conditions dynamically, like AND clauses."
   ]
  },
  {
   "cell_type": "code",
   "execution_count": 30,
   "id": "9452a284",
   "metadata": {},
   "outputs": [
    {
     "name": "stdout",
     "output_type": "stream",
     "text": [
      "{'city': 'New York', 'population': 8419600}\n",
      "{'city': 'Los Angeles', 'population': 3980400}\n"
     ]
    }
   ],
   "source": [
    "poplation_data = [\n",
    "    {\"city\": \"New York\", \"population\": 8419600},\n",
    "    {\"city\": \"Los Angeles\", \"population\": 3980400},\n",
    "    {\"city\": \"Chicago\", \"population\": 2716000},\n",
    "    {\"city\": \"Houston\", \"population\": 2328000},\n",
    "    {\"city\": \"Phoenix\", \"population\": 1690000}\n",
    "]\n",
    "for city_data in poplation_data:\n",
    "   if city_data[\"population\"] > 3000000:\n",
    "      print(city_data)"
   ]
  },
  {
   "cell_type": "markdown",
   "id": "539c6a22",
   "metadata": {},
   "source": [
    "Exercise 4: String Normalization and Cleaning\n",
    "Given a list of city names with inconsistent formatting (e.g., [\" new york \", \"Los ANGELES\", \"   CHICAGO\"]), normalize the names by:\n",
    "\n",
    "Stripping any leading or trailing whitespace.\n",
    "\n",
    "Converting them to title case (e.g., \"New York\", \"Los Angeles\", \"Chicago\").\n",
    "\n",
    "Ensure that the output is a clean list of city names."
   ]
  },
  {
   "cell_type": "code",
   "execution_count": null,
   "id": "9718c515",
   "metadata": {},
   "outputs": [
    {
     "name": "stdout",
     "output_type": "stream",
     "text": [
      "['new york', 'Los ANGELES', 'CHICAGO']\n"
     ]
    }
   ],
   "source": [
    "inconsistent = [\" new york \", \"Los ANGELES\", \"   CHICAGO\"]\n",
    "consistent = []\n",
    "for city in inconsistent:\n",
    "    consistent.append(city.strip())\n",
    "print(consistent)  # Output: ['New York', 'Los Angeles', 'Chicago']"
   ]
  },
  {
   "cell_type": "markdown",
   "id": "1e04d88c",
   "metadata": {},
   "source": [
    "Exercise 5: Parsing and Extracting Address Information\n",
    "Given a string in the format \"Street, City, Country\" (e.g., \"123 Main St, Springfield, USA\"), write a function that parses the string into a dictionary with keys street, city, and country.\n",
    "\n",
    "The function should return a dictionary like {\"street\": \"123 Main St\", \"city\": \"Springfield\", \"country\": \"USA\"}."
   ]
  },
  {
   "cell_type": "code",
   "execution_count": 6,
   "id": "b8c9e247",
   "metadata": {},
   "outputs": [
    {
     "name": "stdout",
     "output_type": "stream",
     "text": [
      "{'street': '123 Main St', 'city': 'Springfield', 'country': 'USA'}\n"
     ]
    }
   ],
   "source": [
    "address = \"123 Main St, Springfield, USA\"\n",
    "\n",
    "def extract_address_info(address):\n",
    "    parts = address.split(\", \")\n",
    "    street = parts[0]\n",
    "    city = parts[1]\n",
    "    country = parts[2]\n",
    "    return {\"street\": street, \"city\": city, \"country\": country}\n",
    "\n",
    "print(extract_address_info(address)) "
   ]
  },
  {
   "cell_type": "markdown",
   "id": "46934c41",
   "metadata": {},
   "source": [
    "Exercise 6: Using For Loops to Process Coordinate Lists\n",
    "Create a list of tuples representing coordinates (latitude, longitude).\n",
    "\n",
    "Write a for loop that prints each coordinate and indicates whether it is in the Northern or Southern Hemisphere based on the latitude."
   ]
  },
  {
   "cell_type": "code",
   "execution_count": 7,
   "id": "d42aee7a",
   "metadata": {},
   "outputs": [
    {
     "name": "stdout",
     "output_type": "stream",
     "text": [
      "Latitude: 40.7128, Longitude: -74.006 - Northern Hemisphere\n",
      "Latitude: -33.8688, Longitude: 151.2093 - Southern Hemisphere\n",
      "Latitude: 51.5074, Longitude: -0.1278 - Northern Hemisphere\n",
      "Latitude: -23.5505, Longitude: -46.6333 - Southern Hemisphere\n",
      "Latitude: 35.6895, Longitude: 139.6917 - Northern Hemisphere\n",
      "Latitude: -1.2921, Longitude: 36.8219 - Southern Hemisphere\n",
      "Latitude: 48.8566, Longitude: 2.3522 - Northern Hemisphere\n",
      "Latitude: -34.6037, Longitude: -58.3816 - Southern Hemisphere\n",
      "Latitude: 37.7749, Longitude: -122.4194 - Northern Hemisphere\n",
      "Latitude: -22.9068, Longitude: -43.1729 - Southern Hemisphere\n"
     ]
    }
   ],
   "source": [
    "coordinates = [\n",
    "    (40.7128, -74.0060),   # New York City, USA (Northern)\n",
    "    (-33.8688, 151.2093),  # Sydney, Australia (Southern)\n",
    "    (51.5074, -0.1278),    # London, UK (Northern)\n",
    "    (-23.5505, -46.6333),  # São Paulo, Brazil (Southern)\n",
    "    (35.6895, 139.6917),   # Tokyo, Japan (Northern)\n",
    "    (-1.2921, 36.8219),    # Nairobi, Kenya (Southern)\n",
    "    (48.8566, 2.3522),     # Paris, France (Northern)\n",
    "    (-34.6037, -58.3816),  # Buenos Aires, Argentina (Southern)\n",
    "    (37.7749, -122.4194),  # San Francisco, USA (Northern)\n",
    "    (-22.9068, -43.1729)   # Rio de Janeiro, Brazil (Southern)\n",
    "]\n",
    "for lat, lon in coordinates:\n",
    "    if lat > 0:\n",
    "        hemisphere = \"Northern\"\n",
    "    else:\n",
    "        hemisphere = \"Southern\"\n",
    "    print(f\"Latitude: {lat}, Longitude: {lon} - {hemisphere} Hemisphere\")"
   ]
  },
  {
   "cell_type": "markdown",
   "id": "0bc5db62",
   "metadata": {},
   "source": [
    "Exercise 7: While Loops for Iterative Processing\n",
    "Create a list of coordinates (latitude, longitude).\n",
    "\n",
    "Write a while loop that continues to print each coordinate until it encounters a coordinate with a negative latitude.\n",
    "\n",
    "Stop the loop once this condition is met."
   ]
  }
 ],
 "metadata": {
  "kernelspec": {
   "display_name": "Python 3",
   "language": "python",
   "name": "python3"
  },
  "language_info": {
   "codemirror_mode": {
    "name": "ipython",
    "version": 3
   },
   "file_extension": ".py",
   "mimetype": "text/x-python",
   "name": "python",
   "nbconvert_exporter": "python",
   "pygments_lexer": "ipython3",
   "version": "3.13.5"
  }
 },
 "nbformat": 4,
 "nbformat_minor": 5
}
