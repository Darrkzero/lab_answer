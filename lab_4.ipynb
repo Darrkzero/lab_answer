{
 "cells": [
  {
   "cell_type": "markdown",
   "id": "3690e3e5",
   "metadata": {},
   "source": [
    "Exercise 1: NumPy Array Operations and Geospatial Coordinates\n",
    "In this exercise, you will work with NumPy arrays representing geospatial coordinates (latitude and longitude) and perform basic array operations.\n",
    "\n",
    "Create a 2D NumPy array containing the latitude and longitude of the following cities: Tokyo (35.6895, 139.6917), New York (40.7128, -74.0060), London (51.5074, -0.1278), and Paris (48.8566, 2.3522).\n",
    "\n",
    "Convert the latitude and longitude values from degrees to radians using np.radians().\n",
    "\n",
    "Calculate the element-wise difference between Tokyo and the other cities’ latitude and longitude in radians."
   ]
  },
  {
   "cell_type": "code",
   "execution_count": 1,
   "id": "e9b2d8e5",
   "metadata": {},
   "outputs": [],
   "source": [
    "import numpy as np"
   ]
  },
  {
   "cell_type": "code",
   "execution_count": 5,
   "id": "642a72b7",
   "metadata": {},
   "outputs": [
    {
     "data": {
      "text/plain": [
       "array([[ 6.22899283e-01,  2.43808010e+00],\n",
       "       [ 7.10572408e-01, -1.29164837e+00],\n",
       "       [ 8.98973719e-01, -2.23053078e-03],\n",
       "       [ 8.52708531e-01,  4.10536347e-02]])"
      ]
     },
     "execution_count": 5,
     "metadata": {},
     "output_type": "execute_result"
    }
   ],
   "source": [
    "city_data = np.array([\n",
    "    [\"Tokyo\", 35.6895, 139.6917],\n",
    "    [\"New York\", 40.7128, -74.0060],\n",
    "    [\"London\", 51.5074, -0.1278],\n",
    "    [\"Paris\", 48.8566, 2.3522]\n",
    "])\n",
    "coordinates = city_data[:, 1:].astype(float)\n",
    "new_cord = np.radians(coordinates)\n",
    "new_cord"
   ]
  },
  {
   "cell_type": "code",
   "execution_count": null,
   "id": "e25b8431",
   "metadata": {},
   "outputs": [],
   "source": []
  }
 ],
 "metadata": {
  "kernelspec": {
   "display_name": "Python 3",
   "language": "python",
   "name": "python3"
  },
  "language_info": {
   "codemirror_mode": {
    "name": "ipython",
    "version": 3
   },
   "file_extension": ".py",
   "mimetype": "text/x-python",
   "name": "python",
   "nbconvert_exporter": "python",
   "pygments_lexer": "ipython3",
   "version": "3.13.7"
  }
 },
 "nbformat": 4,
 "nbformat_minor": 5
}
