{
 "cells": [
  {
   "cell_type": "markdown",
   "id": "7778d783",
   "metadata": {},
   "source": [
    "Exercise 1: Calculating Distances with Functions\n",
    "Define a function calculate_distance that takes two geographic coordinates (latitude and longitude) and returns the distance between them using the Haversine formula.\n",
    "\n",
    "Use this function to calculate the distance between multiple pairs of coordinates."
   ]
  },
  {
   "cell_type": "code",
   "execution_count": 4,
   "id": "cac8bcbb",
   "metadata": {},
   "outputs": [
    {
     "name": "stdout",
     "output_type": "stream",
     "text": [
      "1315510.1556559906 meters\n"
     ]
    }
   ],
   "source": [
    "def calculate_distance(point1, point2):\n",
    "    \"\"\"\n",
    "    Calculate the great-circle distance between two points on the Earth using the Haversine formula.\n",
    "    Each point is a tuple (latitude, longitude) in decimal degrees.\n",
    "    Returns distance in meters.\n",
    "    \"\"\"\n",
    "    from math import radians, sin, cos, sqrt, atan2\n",
    "\n",
    "    lat1, lon1 = point1\n",
    "    lat2, lon2 = point2\n",
    "\n",
    "    # Convert latitude and longitude from degrees to radians\n",
    "    lat1 = radians(lat1)\n",
    "    lon1 = radians(lon1)\n",
    "    lat2 = radians(lat2)\n",
    "    lon2 = radians(lon2)\n",
    "\n",
    "    # Haversine formula\n",
    "    dlat = lat2 - lat1\n",
    "    dlon = lon2 - lon1\n",
    "    a = sin(dlat / 2)**2 + cos(lat1) * cos(lat2) * sin(dlon / 2)**2\n",
    "    c = 2 * atan2(sqrt(a), sqrt(1 - a))\n",
    "    R = 6371000  # Radius of Earth in meters\n",
    "    distance = R * c\n",
    "    return f\"{distance} meters\"\n",
    "\n",
    "print(calculate_distance((52.2296756, 21.0122287), (41.8919300, 12.5113300)))"
   ]
  },
  {
   "cell_type": "markdown",
   "id": "d2ae2edd",
   "metadata": {},
   "source": [
    "Exercise 2: Batch Distance Calculation\n",
    "Create a function batch_distance_calculation that accepts a list of coordinate pairs and returns a list of distances between consecutive pairs.\n",
    "\n",
    "Test the function with a list of coordinates representing several cities."
   ]
  },
  {
   "cell_type": "code",
   "execution_count": 26,
   "id": "17f4b412",
   "metadata": {},
   "outputs": [
    {
     "name": "stdout",
     "output_type": "stream",
     "text": [
      "['1315510.1556559906 meters', '1366549.3798571713 meters', '1448514.4720223164 meters', '6854207.502998867 meters', '1107005.3400782868 meters', '1435486.8911179581 meters', '6891616.696308889 meters', '343549.3521794692 meters', '5837241.591627288 meters', '5570226.569843323 meters']\n"
     ]
    }
   ],
   "source": [
    "# List of coordinates: (latitude, longitude) for several cities\n",
    "cities = [\n",
    "    (52.2296756, 21.0122287),   # Warsaw\n",
    "    (41.8919300, 12.5113300),   # Rome\n",
    "    (48.856614, 2.3522219),     # Paris\n",
    "    (51.5073509, -0.1277583),   # London\n",
    "    (40.7127753, -74.0059728)   # New York\n",
    "]\n",
    "\n",
    "def batch_distance_calculation(points):\n",
    "    \"\"\"\n",
    "    Calculate the great-circle distances between a list of points on the Earth using the Haversine formula.\n",
    "    Each point is a tuple (latitude, longitude) in decimal degrees.\n",
    "    Returns a list of distances in meters.\n",
    "    \"\"\"\n",
    "    distances = []\n",
    "    for i in range(len(points)):\n",
    "        for j in range(i + 1, len(points)):\n",
    "            distance = calculate_distance(points[i], points[j])\n",
    "            distances.append(distance)\n",
    "    return distances\n",
    "\n",
    "\n",
    "\n",
    "# Calculate distances\n",
    "distances = batch_distance_calculation(cities)\n",
    "print(distances)\n"
   ]
  },
  {
   "cell_type": "markdown",
   "id": "9e7cbf2f",
   "metadata": {},
   "source": [
    "Exercise 3: Creating and Using a Point Class\n",
    "Define a Point class to represent a geographic point with attributes latitude, longitude, and name.\n",
    "\n",
    "Add a method distance_to that calculates the distance from one point to another.\n",
    "\n",
    "Instantiate several Point objects and calculate the distance between them."
   ]
  },
  {
   "cell_type": "code",
   "execution_count": 23,
   "id": "904ea22e",
   "metadata": {},
   "outputs": [],
   "source": [
    "class Point:\n",
    "    def __init__(self, latitude, longitude, name=None):\n",
    "        self.latitude = latitude\n",
    "        self.longitude = longitude\n",
    "        self.name = name\n",
    "\n",
    "    def distance_to(self, other):\n",
    "        return calculate_distance((self.latitude, self.longitude), (other.latitude, other.longitude))\n",
    "\n"
   ]
  },
  {
   "cell_type": "markdown",
   "id": "4aade1f4",
   "metadata": {},
   "source": [
    "Exercise 4: Reading and Writing Files\n",
    "Write a function read_coordinates that reads a file containing a list of coordinates (latitude, longitude) and returns them as a list of tuples.\n",
    "\n",
    "Write another function write_coordinates that takes a list of coordinates and writes them to a new file.\n",
    "\n",
    "Ensure that both functions handle exceptions, such as missing files or improperly formatted data."
   ]
  },
  {
   "cell_type": "code",
   "execution_count": 16,
   "id": "c0bfc14f",
   "metadata": {},
   "outputs": [
    {
     "name": "stdout",
     "output_type": "stream",
     "text": [
      "[(35.6895, 139.6917), (34.0522, -118.2437), (51.5074, -0.1278), (-33.8688, 151.2093), (48.8566, 2.3522)]\n"
     ]
    }
   ],
   "source": [
    "inputfile = \"coordinates.txt\"\n",
    "def read_coordinates():\n",
    "    with open(inputfile, \"r\") as f:\n",
    "        lines = f.readlines()\n",
    "    points = []\n",
    "    for line in lines:\n",
    "        lat, lon = line.strip().split(\",\")\n",
    "        points.append((float(lat), float(lon)))\n",
    "    return points\n",
    "\n",
    "\n",
    "print(read_coordinates())"
   ]
  },
  {
   "cell_type": "markdown",
   "id": "efd1dceb",
   "metadata": {},
   "source": [
    "Exercise 5: Processing Coordinates from a File\n",
    "Create a function that reads coordinates from a file and uses the Point class to create Point objects.\n",
    "\n",
    "Calculate the distance between each consecutive pair of points and write the results to a new file.\n",
    "\n",
    "Ensure the function handles file-related exceptions and gracefully handles improperly formatted lines."
   ]
  },
  {
   "cell_type": "code",
   "execution_count": 31,
   "id": "d5788819",
   "metadata": {},
   "outputs": [
    {
     "name": "stdout",
     "output_type": "stream",
     "text": [
      "Distances written to distances.txt\n"
     ]
    }
   ],
   "source": [
    "def write_consecutive_distances(input_file, output_file):\n",
    "    \"\"\"\n",
    "    Reads points from input_file (latitude,longitude,name per line),\n",
    "    calculates the distance between each consecutive pair, and writes results to output_file.\n",
    "    Handles file errors and malformed lines gracefully.\n",
    "    \"\"\"\n",
    "    points = []\n",
    "    try:\n",
    "        with open(input_file, 'r') as f:\n",
    "            for line in f:\n",
    "                parts = line.strip().split(',')\n",
    "                if len(parts) >= 2:\n",
    "                    try:\n",
    "                        lat = float(parts[0])\n",
    "                        lon = float(parts[1])\n",
    "                        name = parts[2] if len(parts) > 2 else \"unavailable\"\n",
    "                        points.append(Point(lat, lon, name))\n",
    "                    except ValueError:\n",
    "                        print(f\"Skipping malformed line (invalid numbers): {line.strip()}\")\n",
    "                else:\n",
    "                    print(f\"Skipping malformed line (not enough values): {line.strip()}\")\n",
    "    except FileNotFoundError:\n",
    "        print(f\"Input file not found: {input_file}\")\n",
    "        return\n",
    "    except IOError as e:\n",
    "        print(f\"Error reading file {input_file}: {e}\")\n",
    "        return\n",
    "\n",
    "    try:\n",
    "        with open(output_file, 'w') as f:\n",
    "            for i in range(len(points) - 1):\n",
    "                p1 = points[i]\n",
    "                p2 = points[i+1]\n",
    "                try:\n",
    "                    distance = p1.distance_to(p2)\n",
    "                    f.write(f\"{(p1.latitude,p1.longitude)} to {(p2.latitude,p2.longitude)}: {distance}\\n\")\n",
    "                except Exception as e:\n",
    "                    print(f\"Error calculating distance between {p1} and {p2}: {e}\")\n",
    "            print(f\"Distances written to {output_file}\")\n",
    "    except IOError as e:\n",
    "        print(f\"Error writing to file {output_file}: {e}\")\n",
    "\n",
    "# Example usage:\n",
    "write_consecutive_distances('coordinates.txt', 'distances.txt')"
   ]
  },
  {
   "cell_type": "markdown",
   "id": "a579659b",
   "metadata": {},
   "source": [
    "Exercise 6: Exception Handling in Data Processing\n",
    "Modify the batch_distance_calculation function to handle exceptions that might occur during the calculation, such as invalid coordinates.\n",
    "\n",
    "Ensure the function skips invalid data and continues processing the remaining data."
   ]
  },
  {
   "cell_type": "code",
   "execution_count": null,
   "id": "d629f504",
   "metadata": {},
   "outputs": [],
   "source": [
    "def batch_distance_calculation(points):\n",
    "    \"\"\"\n",
    "    Modified function for handling exceptions\n",
    "    Calculate the great-circle distances between a list of points on the Earth using the Haversine formula.\n",
    "    Each point is a tuple (latitude, longitude) in decimal degrees.\n",
    "    Returns a list of distances in meters. Skips invalid data and continues processing.\n",
    "    \"\"\"\n",
    "    distances = []\n",
    "    for i in range(len(points)):\n",
    "        for j in range(i + 1, len(points)):\n",
    "            try:\n",
    "                distance = calculate_distance(points[i], points[j])\n",
    "                distances.append(distance)\n",
    "            except Exception as e:\n",
    "                print(f\"Skipping pair {points[i]}, {points[j]} due to error: {e}\")\n",
    "                continue\n",
    "    return distances\n",
    "\n",
    "# Calculate distances\n",
    "distances = batch_distance_calculation(cities)\n",
    "print(distances)"
   ]
  }
 ],
 "metadata": {
  "kernelspec": {
   "display_name": "Python 3",
   "language": "python",
   "name": "python3"
  },
  "language_info": {
   "codemirror_mode": {
    "name": "ipython",
    "version": 3
   },
   "file_extension": ".py",
   "mimetype": "text/x-python",
   "name": "python",
   "nbconvert_exporter": "python",
   "pygments_lexer": "ipython3",
   "version": "3.13.7"
  }
 },
 "nbformat": 4,
 "nbformat_minor": 5
}
